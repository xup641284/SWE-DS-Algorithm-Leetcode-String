{
 "cells": [
  {
   "cell_type": "markdown",
   "metadata": {},
   "source": [
    "# String, O(n)"
   ]
  },
  {
   "cell_type": "code",
   "execution_count": 1,
   "metadata": {},
   "outputs": [
    {
     "name": "stdout",
     "output_type": "stream",
     "text": [
      "Is Valid? True\n",
      "Is Valid? False\n"
     ]
    }
   ],
   "source": [
    "def isValid(s):\n",
    "    stack = []\n",
    "    mapping = {')': '(', '}': '{', ']': '['}\n",
    "\n",
    "    for char in s:\n",
    "        if char in mapping:\n",
    "            if not stack or stack[-1] != mapping[char]:\n",
    "                return False\n",
    "            stack.pop()\n",
    "        else:\n",
    "            stack.append(char)\n",
    "\n",
    "    return len(stack) == 0\n",
    "\n",
    "if __name__ == '__main__':\n",
    "\n",
    "    input_str = \"{[()()]}\"\n",
    "    result = isValid(input_str)\n",
    "    print(f\"Is Valid? {result}\")  # Output: Is Valid? True\n",
    "\n",
    "    input_str = \"{[()])}\"\n",
    "    result = isValid(input_str)\n",
    "    print(f\"Is Valid? {result}\")  # Output: Is Valid? False\n"
   ]
  },
  {
   "cell_type": "code",
   "execution_count": 2,
   "metadata": {},
   "outputs": [
    {
     "name": "stdout",
     "output_type": "stream",
     "text": [
      "Is Valid? True\n",
      "Is Valid? False\n"
     ]
    }
   ],
   "source": [
    "def isValid(s):\n",
    "    stack = []\n",
    "    mapping = {')': '(', '}': '{', ']': '['}\n",
    "\n",
    "    for char in s:\n",
    "        if char in mapping:\n",
    "            # '#' for edge case if stack is empty\n",
    "            top_element = stack.pop() if stack else '#'\n",
    "            if top_element != mapping[char]:\n",
    "                return False\n",
    "        else:\n",
    "            stack.append(char)\n",
    "\n",
    "    return len(stack) == 0\n",
    "\n",
    "if __name__ == '__main__':\n",
    "\n",
    "    input_str = \"{[()()]}\"\n",
    "    result = isValid(input_str)\n",
    "    print(f\"Is Valid? {result}\")  # Output: Is Valid? True\n",
    "\n",
    "    input_str = \"{[()])}\"\n",
    "    result = isValid(input_str)\n",
    "    print(f\"Is Valid? {result}\")  # Output: Is Valid? False\n"
   ]
  },
  {
   "cell_type": "code",
   "execution_count": null,
   "metadata": {},
   "outputs": [],
   "source": []
  }
 ],
 "metadata": {
  "kernelspec": {
   "display_name": "Python 3",
   "language": "python",
   "name": "python3"
  },
  "language_info": {
   "codemirror_mode": {
    "name": "ipython",
    "version": 3
   },
   "file_extension": ".py",
   "mimetype": "text/x-python",
   "name": "python",
   "nbconvert_exporter": "python",
   "pygments_lexer": "ipython3",
   "version": "3.7.1"
  }
 },
 "nbformat": 4,
 "nbformat_minor": 2
}
