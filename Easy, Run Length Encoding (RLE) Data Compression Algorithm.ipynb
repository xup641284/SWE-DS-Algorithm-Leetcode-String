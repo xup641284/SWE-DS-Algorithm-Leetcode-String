{
 "cells": [
  {
   "cell_type": "markdown",
   "metadata": {},
   "source": [
    "# Linear, O(n)"
   ]
  },
  {
   "cell_type": "code",
   "execution_count": 2,
   "metadata": {},
   "outputs": [
    {
     "name": "stdout",
     "output_type": "stream",
     "text": [
      "1A2B3C1D\n"
     ]
    }
   ],
   "source": [
    "# Perform Run–length encoding (RLE) data compression algorithm on string `str`\n",
    "def encode(s):\n",
    " \n",
    "    encoding = \"\" # stores output string\n",
    " \n",
    "    i = 0\n",
    "    while i < len(s):\n",
    "        # count occurrences of character at index `i`\n",
    "        count = 1\n",
    " \n",
    "        while i + 1 < len(s) and s[i] == s[i + 1]:\n",
    "            count = count + 1\n",
    "            i = i + 1\n",
    " \n",
    "        # append current character and its count to the result\n",
    "        encoding += str(count) + s[i]\n",
    "        i = i + 1\n",
    " \n",
    "    return encoding\n",
    " \n",
    "if __name__ == '__main__':\n",
    " \n",
    "    s = 'ABBCCCD'\n",
    "    print(encode(s))"
   ]
  },
  {
   "cell_type": "code",
   "execution_count": null,
   "metadata": {},
   "outputs": [],
   "source": []
  }
 ],
 "metadata": {
  "kernelspec": {
   "display_name": "Python 3",
   "language": "python",
   "name": "python3"
  },
  "language_info": {
   "codemirror_mode": {
    "name": "ipython",
    "version": 3
   },
   "file_extension": ".py",
   "mimetype": "text/x-python",
   "name": "python",
   "nbconvert_exporter": "python",
   "pygments_lexer": "ipython3",
   "version": "3.7.1"
  }
 },
 "nbformat": 4,
 "nbformat_minor": 2
}
