{
 "cells": [
  {
   "cell_type": "markdown",
   "metadata": {},
   "source": [
    "# String, O(n)"
   ]
  },
  {
   "cell_type": "code",
   "execution_count": 1,
   "metadata": {},
   "outputs": [
    {
     "name": "stdout",
     "output_type": "stream",
     "text": [
      "('abc', 3)\n"
     ]
    }
   ],
   "source": [
    "def lengthOfLongestSubstring(s):\n",
    "    char_dict = {}\n",
    "    maxlen = 0\n",
    "    left = 0\n",
    "    longest_substring = ''\n",
    "    \n",
    "    for right, char in enumerate(s):\n",
    "        if char in char_dict and left <= char_dict[char]:\n",
    "            left = char_dict[char] + 1\n",
    "        else:\n",
    "            if right - left + 1 > maxlen:\n",
    "                maxlen = right - left + 1\n",
    "                longest_substring = s[left:right + 1]\n",
    "        char_dict[char] = right\n",
    "    return longest_substring, maxlen\n",
    "\n",
    "if __name__ == '__main__':\n",
    "    s = \"abcabcbb\"\n",
    "    result = lengthOfLongestSubstring(s)\n",
    "    print(result)  # Output: \"abc\"\n"
   ]
  },
  {
   "cell_type": "code",
   "execution_count": null,
   "metadata": {},
   "outputs": [],
   "source": []
  }
 ],
 "metadata": {
  "kernelspec": {
   "display_name": "Python 3",
   "language": "python",
   "name": "python3"
  },
  "language_info": {
   "codemirror_mode": {
    "name": "ipython",
    "version": 3
   },
   "file_extension": ".py",
   "mimetype": "text/x-python",
   "name": "python",
   "nbconvert_exporter": "python",
   "pygments_lexer": "ipython3",
   "version": "3.7.1"
  }
 },
 "nbformat": 4,
 "nbformat_minor": 2
}
