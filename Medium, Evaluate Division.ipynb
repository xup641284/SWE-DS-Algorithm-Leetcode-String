{
 "cells": [
  {
   "cell_type": "markdown",
   "metadata": {},
   "source": [
    "# DFS, String"
   ]
  },
  {
   "cell_type": "code",
   "execution_count": 1,
   "metadata": {},
   "outputs": [
    {
     "name": "stdout",
     "output_type": "stream",
     "text": [
      "[6.0, 0.5, -1.0, 1.0, -1.0]\n"
     ]
    }
   ],
   "source": [
    "from collections import defaultdict\n",
    "\n",
    "def calcEquation(equations, values, queries):\n",
    "    graph = defaultdict(dict)\n",
    "\n",
    "    # Build the graph using the given equations and values\n",
    "    for (numerator, denominator), value in zip(equations, values):\n",
    "        graph[numerator][denominator] = value\n",
    "        graph[denominator][numerator] = 1 / value\n",
    "   \n",
    "    def dfs(start, end, visited):\n",
    "        if start not in graph or end not in graph:\n",
    "            return -1.0\n",
    "\n",
    "        if end in graph[start]:\n",
    "            return graph[start][end]\n",
    "\n",
    "        for neighbor in graph[start]:\n",
    "            if neighbor not in visited:\n",
    "                visited.add(neighbor)\n",
    "                result = dfs(neighbor, end, visited)\n",
    "                if result != -1.0:\n",
    "                    return graph[start][neighbor] * result\n",
    "\n",
    "        return -1.0\n",
    "\n",
    "    results = []\n",
    "    for query in queries:\n",
    "        start, end = query\n",
    "        results.append(dfs(start, end, set()))\n",
    "\n",
    "    return results\n",
    "\n",
    "# Test the function\n",
    "equations = [[\"a\", \"b\"], [\"b\", \"c\"], [\"c\", \"d\"]]\n",
    "values = [2.0, 3.0, 4.0]\n",
    "queries = [[\"a\", \"c\"], [\"b\", \"a\"], [\"a\", \"e\"], [\"a\", \"a\"], [\"x\", \"x\"]]\n",
    "print(calcEquation(equations, values, queries))\n",
    "# Output: [6.0, 0.5, -1.0, 1.0, -1.0]\n"
   ]
  },
  {
   "cell_type": "code",
   "execution_count": null,
   "metadata": {},
   "outputs": [],
   "source": []
  }
 ],
 "metadata": {
  "kernelspec": {
   "display_name": "Python 3",
   "language": "python",
   "name": "python3"
  },
  "language_info": {
   "codemirror_mode": {
    "name": "ipython",
    "version": 3
   },
   "file_extension": ".py",
   "mimetype": "text/x-python",
   "name": "python",
   "nbconvert_exporter": "python",
   "pygments_lexer": "ipython3",
   "version": "3.7.1"
  }
 },
 "nbformat": 4,
 "nbformat_minor": 2
}
