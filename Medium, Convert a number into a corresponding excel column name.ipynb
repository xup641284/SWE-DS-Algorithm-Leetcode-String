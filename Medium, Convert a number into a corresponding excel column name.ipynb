{
 "cells": [
  {
   "cell_type": "code",
   "execution_count": 1,
   "metadata": {},
   "outputs": [
    {
     "name": "stdout",
     "output_type": "stream",
     "text": [
      "610 — WL\n",
      "711 — AAI\n",
      "759 — ACE\n",
      "642 — XR\n",
      "920 — AIJ\n",
      "44 — AR\n",
      "77 — BY\n",
      "655 — YE\n",
      "224 — HP\n",
      "532 — TL\n"
     ]
    }
   ],
   "source": [
    "from random import randint\n",
    " \n",
    "# Function to convert a given number to an Excel column\n",
    "def getColumnName(n):\n",
    " \n",
    "    # initialize output string as empty\n",
    "    result = ''\n",
    " \n",
    "    while n > 0:\n",
    " \n",
    "        # find the index of the next letter and concatenate the letter\n",
    "        # to the solution\n",
    " \n",
    "        # here index 0 corresponds to 'A', and 25 corresponds to 'Z'\n",
    "        index = (n - 1) % 26\n",
    "        result += chr(index + ord('A'))\n",
    "        n = (n - 1) // 26\n",
    " \n",
    "    return result[::-1]\n",
    " \n",
    "if __name__ == '__main__':\n",
    " \n",
    "    # generate column names for 10 random numbers between 1–1000\n",
    "    for i in range(1, 11):\n",
    "        r = randint(1, 1000)\n",
    "        print(r, '—', getColumnName(r))"
   ]
  },
  {
   "cell_type": "code",
   "execution_count": null,
   "metadata": {},
   "outputs": [],
   "source": []
  }
 ],
 "metadata": {
  "kernelspec": {
   "display_name": "Python 3",
   "language": "python",
   "name": "python3"
  },
  "language_info": {
   "codemirror_mode": {
    "name": "ipython",
    "version": 3
   },
   "file_extension": ".py",
   "mimetype": "text/x-python",
   "name": "python",
   "nbconvert_exporter": "python",
   "pygments_lexer": "ipython3",
   "version": "3.7.1"
  }
 },
 "nbformat": 4,
 "nbformat_minor": 2
}
