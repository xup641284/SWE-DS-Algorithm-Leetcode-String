{
 "cells": [
  {
   "cell_type": "code",
   "execution_count": 11,
   "metadata": {},
   "outputs": [
    {
     "name": "stdout",
     "output_type": "stream",
     "text": [
      "Given strings can be derived from each other\n"
     ]
    }
   ],
   "source": [
    "# Function to check if `X` can be derived from `Y` by rotating it\n",
    "def check(X, Y):\n",
    " \n",
    "    # if string lengths are different, they can't be\n",
    "    # derived from each other\n",
    "    if len(X) != len(Y):\n",
    "        return False\n",
    " \n",
    "    # Invariant: At the i'th iteration of this loop,\n",
    "    # the string `X` will be rotated by `i` units\n",
    "    for _ in range(len(X)):\n",
    " \n",
    "        # left rotate string `X` by 1 unit\n",
    "        X = X[1:] + X[0]\n",
    " \n",
    "        # return true if `X` becomes equal to `Y`\n",
    "        if X == Y:\n",
    "            return True\n",
    " \n",
    "    # return false if no rotation is matched\n",
    "    return False\n",
    " \n",
    "if __name__ == '__main__':\n",
    " \n",
    "    X = 'ABCD'\n",
    "    Y = 'DABC'\n",
    " \n",
    "    if check(X, Y):\n",
    "        print('Given strings can be derived from each other')\n",
    "    else:\n",
    "        print('Given strings cannot be derived from each other')"
   ]
  },
  {
   "cell_type": "code",
   "execution_count": null,
   "metadata": {},
   "outputs": [],
   "source": []
  }
 ],
 "metadata": {
  "kernelspec": {
   "display_name": "Python 3",
   "language": "python",
   "name": "python3"
  },
  "language_info": {
   "codemirror_mode": {
    "name": "ipython",
    "version": 3
   },
   "file_extension": ".py",
   "mimetype": "text/x-python",
   "name": "python",
   "nbconvert_exporter": "python",
   "pygments_lexer": "ipython3",
   "version": "3.7.1"
  }
 },
 "nbformat": 4,
 "nbformat_minor": 2
}
