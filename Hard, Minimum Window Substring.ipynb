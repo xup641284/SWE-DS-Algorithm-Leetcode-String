{
 "cells": [
  {
   "cell_type": "code",
   "execution_count": 1,
   "metadata": {},
   "outputs": [
    {
     "name": "stdout",
     "output_type": "stream",
     "text": [
      "BANC\n"
     ]
    }
   ],
   "source": [
    "def minWindowSubstring(s, t):\n",
    "    from collections import Counter\n",
    "    target_count = Counter(t)\n",
    "    required_chars = len(target_count)\n",
    "    left = right = 0\n",
    "    min_window = float('inf')\n",
    "    result = ''\n",
    "\n",
    "    while right < len(s):\n",
    "        char = s[right]\n",
    "        target_count[char] -= 1\n",
    "\n",
    "        if target_count[char] == 0:\n",
    "            required_chars -= 1\n",
    "\n",
    "        while required_chars == 0:\n",
    "            if right - left + 1 < min_window:\n",
    "                min_window = right - left + 1\n",
    "                result = s[left:right+1]\n",
    "\n",
    "            char = s[left]\n",
    "            target_count[char] += 1\n",
    "\n",
    "            if target_count[char] > 0:\n",
    "                required_chars += 1\n",
    "\n",
    "            left += 1\n",
    "\n",
    "        right += 1\n",
    "\n",
    "    return result\n",
    "\n",
    "# Example usage:\n",
    "s = \"ADOBECODEBANC\"\n",
    "t = \"ABC\"\n",
    "result = minWindowSubstring(s, t)\n",
    "print(result)  # Output: \"BANC\"\n"
   ]
  },
  {
   "cell_type": "code",
   "execution_count": null,
   "metadata": {},
   "outputs": [],
   "source": []
  }
 ],
 "metadata": {
  "kernelspec": {
   "display_name": "Python 3",
   "language": "python",
   "name": "python3"
  },
  "language_info": {
   "codemirror_mode": {
    "name": "ipython",
    "version": 3
   },
   "file_extension": ".py",
   "mimetype": "text/x-python",
   "name": "python",
   "nbconvert_exporter": "python",
   "pygments_lexer": "ipython3",
   "version": "3.7.1"
  }
 },
 "nbformat": 4,
 "nbformat_minor": 2
}
