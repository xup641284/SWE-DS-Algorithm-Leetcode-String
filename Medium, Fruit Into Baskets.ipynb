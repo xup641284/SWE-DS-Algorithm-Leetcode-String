{
 "cells": [
  {
   "cell_type": "markdown",
   "metadata": {},
   "source": [
    "# Sliding Window, Longest Substring with At Most Two Distinct Characters"
   ]
  },
  {
   "cell_type": "code",
   "execution_count": 1,
   "metadata": {},
   "outputs": [
    {
     "name": "stdout",
     "output_type": "stream",
     "text": [
      "5\n"
     ]
    }
   ],
   "source": [
    "def totalFruit(tree):\n",
    "    fruit_count = {}\n",
    "    max_fruits = 0\n",
    "    left = 0\n",
    "\n",
    "    for right in range(len(tree)):\n",
    "        fruit_count[tree[right]] = fruit_count.get(tree[right], 0) + 1\n",
    "\n",
    "        while len(fruit_count) > 2:\n",
    "            fruit_count[tree[left]] -= 1\n",
    "            if fruit_count[tree[left]] == 0:\n",
    "                del fruit_count[tree[left]]\n",
    "            left += 1\n",
    "\n",
    "        max_fruits = max(max_fruits, right - left + 1)\n",
    "\n",
    "    return max_fruits\n",
    "\n",
    "# Example usage:\n",
    "tree = [3, 3, 3, 1, 2, 1, 1, 2, 3, 3, 4]\n",
    "result = totalFruit(tree)\n",
    "print(result)  # Output: 5\n"
   ]
  },
  {
   "cell_type": "code",
   "execution_count": null,
   "metadata": {},
   "outputs": [],
   "source": []
  }
 ],
 "metadata": {
  "kernelspec": {
   "display_name": "Python 3",
   "language": "python",
   "name": "python3"
  },
  "language_info": {
   "codemirror_mode": {
    "name": "ipython",
    "version": 3
   },
   "file_extension": ".py",
   "mimetype": "text/x-python",
   "name": "python",
   "nbconvert_exporter": "python",
   "pygments_lexer": "ipython3",
   "version": "3.7.1"
  }
 },
 "nbformat": 4,
 "nbformat_minor": 2
}
