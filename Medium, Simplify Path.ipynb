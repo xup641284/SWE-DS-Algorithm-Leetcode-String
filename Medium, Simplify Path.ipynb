{
 "cells": [
  {
   "cell_type": "markdown",
   "metadata": {},
   "source": [
    "# Stack"
   ]
  },
  {
   "cell_type": "code",
   "execution_count": 5,
   "metadata": {},
   "outputs": [
    {
     "name": "stdout",
     "output_type": "stream",
     "text": [
      "/c\n"
     ]
    }
   ],
   "source": [
    "def simplifyPath(path):\n",
    "    stack = []\n",
    "    components = path.split('/')\n",
    "    for comp in components:\n",
    "        if comp == '..':\n",
    "            if stack:\n",
    "                stack.pop()\n",
    "        elif comp and comp != '.':\n",
    "            stack.append(comp)\n",
    "    return '/' + '/'.join(stack) if stack else '/'\n",
    "\n",
    "path = \"/a/./b/../../c/\"\n",
    "print(simplifyPath(path))  # Output: \"/c\"\n",
    "\n"
   ]
  },
  {
   "cell_type": "code",
   "execution_count": null,
   "metadata": {},
   "outputs": [],
   "source": []
  }
 ],
 "metadata": {
  "kernelspec": {
   "display_name": "Python 3",
   "language": "python",
   "name": "python3"
  },
  "language_info": {
   "codemirror_mode": {
    "name": "ipython",
    "version": 3
   },
   "file_extension": ".py",
   "mimetype": "text/x-python",
   "name": "python",
   "nbconvert_exporter": "python",
   "pygments_lexer": "ipython3",
   "version": "3.7.1"
  }
 },
 "nbformat": 4,
 "nbformat_minor": 2
}
