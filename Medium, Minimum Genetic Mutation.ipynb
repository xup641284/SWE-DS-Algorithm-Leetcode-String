{
 "cells": [
  {
   "cell_type": "markdown",
   "metadata": {},
   "source": [
    "# BFS approach"
   ]
  },
  {
   "cell_type": "code",
   "execution_count": 1,
   "metadata": {},
   "outputs": [
    {
     "name": "stdout",
     "output_type": "stream",
     "text": [
      "Minimum number of mutations required: 1\n"
     ]
    }
   ],
   "source": [
    "from collections import deque\n",
    "\n",
    "def is_valid_mutation(s1, s2):\n",
    "    diff_count = 0\n",
    "    for c1, c2 in zip(s1, s2):\n",
    "        if c1 != c2:\n",
    "            diff_count += 1\n",
    "            if diff_count > 1:\n",
    "                return False\n",
    "    return diff_count == 1\n",
    "\n",
    "def min_genetic_mutation(start, end, bank):\n",
    "    queue = deque([(start, 0)])\n",
    "    visited = set([start])\n",
    "\n",
    "    while queue:\n",
    "        current, mutations = queue.popleft()\n",
    "\n",
    "        if current == end:\n",
    "            return mutations\n",
    "\n",
    "        for mutation in bank:\n",
    "            if mutation not in visited and is_valid_mutation(current, mutation):\n",
    "                visited.add(mutation)\n",
    "                queue.append((mutation, mutations + 1))\n",
    "\n",
    "    return -1\n",
    "\n",
    "# Example usage:\n",
    "start = \"AACCGGTT\"\n",
    "end = \"AACCGGTA\"\n",
    "bank = [\"AACCGGTA\", \"AACCGCTA\", \"AAACGGTA\"]\n",
    "\n",
    "result = min_genetic_mutation(start, end, bank)\n",
    "print(\"Minimum number of mutations required:\", result)\n"
   ]
  },
  {
   "cell_type": "code",
   "execution_count": null,
   "metadata": {},
   "outputs": [],
   "source": []
  }
 ],
 "metadata": {
  "kernelspec": {
   "display_name": "Python 3",
   "language": "python",
   "name": "python3"
  },
  "language_info": {
   "codemirror_mode": {
    "name": "ipython",
    "version": 3
   },
   "file_extension": ".py",
   "mimetype": "text/x-python",
   "name": "python",
   "nbconvert_exporter": "python",
   "pygments_lexer": "ipython3",
   "version": "3.7.1"
  }
 },
 "nbformat": 4,
 "nbformat_minor": 2
}
