{
 "cells": [
  {
   "cell_type": "markdown",
   "metadata": {},
   "source": [
    "# Stack, O(n)"
   ]
  },
  {
   "cell_type": "code",
   "execution_count": 14,
   "metadata": {},
   "outputs": [
    {
     "name": "stdout",
     "output_type": "stream",
     "text": [
      "Technical Interview Preparation\n"
     ]
    }
   ],
   "source": [
    "from collections import deque\n",
    " \n",
    "# Function to reverse a text without reversing the individual words\n",
    "def reverseText(s):\n",
    " \n",
    "    # base case\n",
    "    if not s:\n",
    "        return s\n",
    " \n",
    "    # `s[low…high]` forms a word\n",
    "    low = high = 0\n",
    " \n",
    "    # create an empty stack\n",
    "    stack = deque()\n",
    " \n",
    "    # scan the text\n",
    "    for i, c in enumerate(s):\n",
    "        # if space is found, we found a word\n",
    "        if c == ' ':\n",
    "            # push each word into the stack\n",
    "            stack.append(s[low:high + 1])\n",
    " \n",
    "            # reset `low` and `high` for the next word\n",
    "            low = high = i + 1\n",
    "        else:\n",
    "            high = i\n",
    " \n",
    "    # push the last word into the stack\n",
    "    stack.append(s[low:])\n",
    " \n",
    "    # construct the string by following the LIFO order\n",
    "    sb = \"\"\n",
    "    while stack:\n",
    "        sb += stack.pop() + ' '\n",
    " \n",
    "    return sb[:-1]      # remove last space\n",
    " \n",
    "if __name__ == '__main__':\n",
    " \n",
    "    s = 'Preparation Interview Technical'\n",
    "    print(reverseText(s))"
   ]
  },
  {
   "cell_type": "code",
   "execution_count": null,
   "metadata": {},
   "outputs": [],
   "source": []
  }
 ],
 "metadata": {
  "kernelspec": {
   "display_name": "Python 3",
   "language": "python",
   "name": "python3"
  },
  "language_info": {
   "codemirror_mode": {
    "name": "ipython",
    "version": 3
   },
   "file_extension": ".py",
   "mimetype": "text/x-python",
   "name": "python",
   "nbconvert_exporter": "python",
   "pygments_lexer": "ipython3",
   "version": "3.7.1"
  }
 },
 "nbformat": 4,
 "nbformat_minor": 2
}
