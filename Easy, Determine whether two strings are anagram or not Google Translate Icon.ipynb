{
 "cells": [
  {
   "cell_type": "markdown",
   "metadata": {},
   "source": [
    "# Two map,  O(n)"
   ]
  },
  {
   "cell_type": "code",
   "execution_count": 1,
   "metadata": {},
   "outputs": [
    {
     "name": "stdout",
     "output_type": "stream",
     "text": [
      "Anagram\n"
     ]
    }
   ],
   "source": [
    "# Function to check if `X` and `Y` are anagrams or not\n",
    "def isAnagram(X, Y):\n",
    " \n",
    "    # if X's length is not the same as Y's, they can't be an anagram\n",
    "    if len(X) != len(Y):\n",
    "        return False\n",
    " \n",
    "    # create an empty dictionary\n",
    "    freqX = {}\n",
    " \n",
    "    # maintain the count of each character of `X` on the dictionary\n",
    "    for i in range(len(X)):\n",
    "        freqX[X[i]] = freqX.get(X[i], 0) + 1\n",
    "    \n",
    "    # create a second dictionary\n",
    "    freqY = {}\n",
    " \n",
    "    # maintain a count of each character of `Y` on the dictionary\n",
    "    for i in range(len(Y)):\n",
    "        freqY[Y[i]] = freqY.get(Y[i], 0) + 1\n",
    " \n",
    "    # return true if both dictionaries have the same content\n",
    "    return freqX == freqY\n",
    " \n",
    "if __name__ == '__main__':\n",
    " \n",
    "    X = 'tommarvoloriddle'    # Tom Marvolo Riddle\n",
    "    Y = 'iamlordvoldemort'    # I am Lord Voldemort\n",
    " \n",
    "    if isAnagram(X, Y):\n",
    "        print('Anagram')\n",
    "    else:\n",
    "        print('Not an Anagram')"
   ]
  },
  {
   "cell_type": "code",
   "execution_count": null,
   "metadata": {},
   "outputs": [],
   "source": []
  }
 ],
 "metadata": {
  "kernelspec": {
   "display_name": "Python 3",
   "language": "python",
   "name": "python3"
  },
  "language_info": {
   "codemirror_mode": {
    "name": "ipython",
    "version": 3
   },
   "file_extension": ".py",
   "mimetype": "text/x-python",
   "name": "python",
   "nbconvert_exporter": "python",
   "pygments_lexer": "ipython3",
   "version": "3.7.1"
  }
 },
 "nbformat": 4,
 "nbformat_minor": 2
}
