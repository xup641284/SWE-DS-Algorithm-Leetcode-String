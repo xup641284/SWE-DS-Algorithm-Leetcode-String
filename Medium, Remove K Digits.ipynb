{
 "cells": [
  {
   "cell_type": "markdown",
   "metadata": {},
   "source": [
    "# Stack"
   ]
  },
  {
   "cell_type": "code",
   "execution_count": 1,
   "metadata": {},
   "outputs": [
    {
     "name": "stdout",
     "output_type": "stream",
     "text": [
      "1219\n"
     ]
    }
   ],
   "source": [
    "def removeKdigits(num, k):\n",
    "    stack = []\n",
    "\n",
    "    for digit in num:\n",
    "        while k > 0 and stack and stack[-1] > digit:\n",
    "            stack.pop()\n",
    "            k -= 1\n",
    "        stack.append(digit)\n",
    "\n",
    "    # If k is not zero, remove the remaining k digits from the end of the stack.\n",
    "    stack = stack[:-k] if k > 0 else stack\n",
    "\n",
    "    # Remove leading zeros, if any.\n",
    "    return ''.join(stack).lstrip('0') or '0'\n",
    "\n",
    "# Test the function\n",
    "num = \"1432219\"\n",
    "k = 3\n",
    "print(removeKdigits(num, k))  # Output: \"1219\"\n"
   ]
  },
  {
   "cell_type": "code",
   "execution_count": null,
   "metadata": {},
   "outputs": [],
   "source": []
  }
 ],
 "metadata": {
  "kernelspec": {
   "display_name": "Python 3",
   "language": "python",
   "name": "python3"
  },
  "language_info": {
   "codemirror_mode": {
    "name": "ipython",
    "version": 3
   },
   "file_extension": ".py",
   "mimetype": "text/x-python",
   "name": "python",
   "nbconvert_exporter": "python",
   "pygments_lexer": "ipython3",
   "version": "3.7.1"
  }
 },
 "nbformat": 4,
 "nbformat_minor": 2
}
