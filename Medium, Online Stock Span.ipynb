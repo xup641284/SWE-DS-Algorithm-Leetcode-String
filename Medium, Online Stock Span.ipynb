{
 "cells": [
  {
   "cell_type": "markdown",
   "metadata": {},
   "source": [
    "# Stack"
   ]
  },
  {
   "cell_type": "code",
   "execution_count": 1,
   "metadata": {},
   "outputs": [
    {
     "name": "stdout",
     "output_type": "stream",
     "text": [
      "1\n",
      "1\n",
      "1\n",
      "2\n",
      "1\n",
      "4\n",
      "6\n"
     ]
    }
   ],
   "source": [
    "class StockSpanner:\n",
    "    def __init__(self):\n",
    "        self.prices = []\n",
    "        self.spans = []\n",
    "\n",
    "    def next(self, price):\n",
    "        span = 1\n",
    "        while self.prices and price >= self.prices[-1]:\n",
    "            span += self.spans.pop()\n",
    "            self.prices.pop()\n",
    "        self.prices.append(price)\n",
    "        self.spans.append(span)\n",
    "        return span\n",
    "\n",
    "# Test the StockSpanner class\n",
    "stock_spanner = StockSpanner()\n",
    "print(stock_spanner.next(100))   # Output: 1\n",
    "print(stock_spanner.next(80))    # Output: 1\n",
    "print(stock_spanner.next(60))    # Output: 1\n",
    "print(stock_spanner.next(70))    # Output: 2\n",
    "print(stock_spanner.next(60))    # Output: 1\n",
    "print(stock_spanner.next(75))    # Output: 4\n",
    "print(stock_spanner.next(85))    # Output: 6\n"
   ]
  },
  {
   "cell_type": "code",
   "execution_count": null,
   "metadata": {},
   "outputs": [],
   "source": []
  }
 ],
 "metadata": {
  "kernelspec": {
   "display_name": "Python 3",
   "language": "python",
   "name": "python3"
  },
  "language_info": {
   "codemirror_mode": {
    "name": "ipython",
    "version": 3
   },
   "file_extension": ".py",
   "mimetype": "text/x-python",
   "name": "python",
   "nbconvert_exporter": "python",
   "pygments_lexer": "ipython3",
   "version": "3.7.1"
  }
 },
 "nbformat": 4,
 "nbformat_minor": 2
}
