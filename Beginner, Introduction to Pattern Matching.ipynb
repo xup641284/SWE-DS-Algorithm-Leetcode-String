{
 "cells": [
  {
   "cell_type": "markdown",
   "metadata": {},
   "source": [
    "# Naive, O(n.m)"
   ]
  },
  {
   "cell_type": "code",
   "execution_count": 1,
   "metadata": {},
   "outputs": [
    {
     "name": "stdout",
     "output_type": "stream",
     "text": [
      "Pattern occurs with shift 2\n",
      "Pattern occurs with shift 8\n"
     ]
    }
   ],
   "source": [
    "# Function to find all occurrences of a pattern of length `m`\n",
    "# in a given text of length `n`\n",
    "def find(text, pattern):\n",
    " \n",
    "    n = len(text)\n",
    "    m = len(pattern)\n",
    " \n",
    "    # base case 1: text is empty\n",
    "    if not pattern:\n",
    "        print('The pattern occurs with shift 0')\n",
    "        return\n",
    " \n",
    "    # base case 2: text is None, or text length is less than that of pattern\n",
    "    if not text or len(pattern) > len(text):\n",
    "        print('Pattern not found')\n",
    "        return\n",
    " \n",
    "    i = 0\n",
    "    while i <= n - m:\n",
    "        for j in range(m):\n",
    "            if text[i + j] is not pattern[j]:\n",
    "                break\n",
    "            if j == m - 1:\n",
    "                print('Pattern occurs with shift', i)\n",
    "        i = i + 1\n",
    " \n",
    " \n",
    "if __name__ == '__main__':\n",
    " \n",
    "    text = 'ABCABAABCABAC'\n",
    "    pattern = 'CAB'\n",
    " \n",
    "    find(text, pattern)"
   ]
  },
  {
   "cell_type": "code",
   "execution_count": null,
   "metadata": {},
   "outputs": [],
   "source": []
  }
 ],
 "metadata": {
  "kernelspec": {
   "display_name": "Python 3",
   "language": "python",
   "name": "python3"
  },
  "language_info": {
   "codemirror_mode": {
    "name": "ipython",
    "version": 3
   },
   "file_extension": ".py",
   "mimetype": "text/x-python",
   "name": "python",
   "nbconvert_exporter": "python",
   "pygments_lexer": "ipython3",
   "version": "3.7.1"
  }
 },
 "nbformat": 4,
 "nbformat_minor": 2
}
